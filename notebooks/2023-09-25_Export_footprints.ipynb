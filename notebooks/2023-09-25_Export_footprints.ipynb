{
 "cells": [
  {
   "cell_type": "code",
   "execution_count": 1,
   "id": "0386373a-c2d0-47f0-8094-85d6de689fdf",
   "metadata": {},
   "outputs": [],
   "source": [
    "from cygnss_wetlands.cygnss.reader import CYGNSS_DATA_DIR, CygnssL1Reader"
   ]
  },
  {
   "cell_type": "markdown",
   "id": "59f9df85-99b1-414d-8fa0-1746a75810b5",
   "metadata": {},
   "source": [
    "## Tiny demo showing how to write out footprints as a geojson file"
   ]
  },
  {
   "cell_type": "code",
   "execution_count": 2,
   "id": "e3068739-f23a-4164-aa3e-a4832f65d240",
   "metadata": {
    "tags": []
   },
   "outputs": [],
   "source": [
    "# Set up reader object over Pacaya Samiria region\n",
    "PACAYA_SAMIRIA_BBOX = (-77, -7, -73, -3) # xmin, ymin, xmax, ymax\n",
    "reader = CygnssL1Reader(bbox=PACAYA_SAMIRIA_BBOX, near_land=True)"
   ]
  },
  {
   "cell_type": "code",
   "execution_count": 3,
   "id": "29833f47-821f-4166-9170-eb652ad2268e",
   "metadata": {
    "tags": []
   },
   "outputs": [],
   "source": [
    "# Read in a test file -- note that footprint ellipses could not be estimate over two data points !\n",
    "#  This is likely the the track was cut short by the area bounding \n",
    "test_file = CYGNSS_DATA_DIR.joinpath(\"L1/v3.1/2020/01/01/cyg01.ddmi.s20200101-000000-e20200101-235959.l1.power-brcs.a31.d32.nc\")\n",
    "df = reader.read_file(test_file)"
   ]
  },
  {
   "cell_type": "code",
   "execution_count": 4,
   "id": "de557ff5-08f3-4fe7-9024-ab119c7d1e3d",
   "metadata": {
    "tags": []
   },
   "outputs": [],
   "source": [
    "# Write out grid to georeferenced file\n",
    "output_file = CYGNSS_DATA_DIR.joinpath(\"testing\", \"PacayaSamiria_20200101_SC1.geojson\")\n",
    "reader.write_footprint_to_geojson(df, output_file)"
   ]
  },
  {
   "cell_type": "code",
   "execution_count": null,
   "id": "b8a6727d-3ba4-402f-980a-bbac09b6caf2",
   "metadata": {},
   "outputs": [],
   "source": []
  }
 ],
 "metadata": {
  "kernelspec": {
   "display_name": "Python 3 (ipykernel)",
   "language": "python",
   "name": "python3"
  },
  "language_info": {
   "codemirror_mode": {
    "name": "ipython",
    "version": 3
   },
   "file_extension": ".py",
   "mimetype": "text/x-python",
   "name": "python",
   "nbconvert_exporter": "python",
   "pygments_lexer": "ipython3",
   "version": "3.9.17"
  }
 },
 "nbformat": 4,
 "nbformat_minor": 5
}
