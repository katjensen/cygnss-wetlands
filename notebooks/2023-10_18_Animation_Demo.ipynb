{
 "cells": [
  {
   "cell_type": "code",
   "execution_count": null,
   "id": "0f56c31c",
   "metadata": {},
   "outputs": [],
   "source": [
    "import calendar\n",
    "import datetime\n",
    "from pathlib import Path\n",
    "\n",
    "import imageio\n",
    "import matplotlib.pyplot as plt\n",
    "import numpy as np\n",
    "from IPython.display import Image, display\n",
    "\n",
    "from cygnss_wetlands.cygnss.reader import CONFIG, CygnssL1Reader\n",
    "from cygnss_wetlands.enums import GridType\n",
    "from cygnss_wetlands.grids.ease import EASE2GRID\n",
    "\n",
    "from cygnss_wetlands.animation.animate import animate"
   ]
  },
  {
   "cell_type": "code",
   "execution_count": null,
   "id": "efa3ebf7",
   "metadata": {},
   "outputs": [],
   "source": [
    "PACAYA_SAMIRIA_BBOX = (-77, -7, -73, -3)  # xmin, ymin, xmax, ymax\n",
    "reader = CygnssL1Reader(bbox=PACAYA_SAMIRIA_BBOX)"
   ]
  },
  {
   "cell_type": "code",
   "execution_count": null,
   "id": "88b9ee80",
   "metadata": {},
   "outputs": [],
   "source": [
    "GridType.namelist()"
   ]
  },
  {
   "cell_type": "code",
   "execution_count": null,
   "id": "92511f81",
   "metadata": {},
   "outputs": [],
   "source": [
    "startDate = datetime.datetime(2023, 1, 1)\n",
    "endDate = datetime.datetime(2023, 1, 31)\n",
    "animate(startDate, endDate, \"ddm_snr\", gridType=GridType.EASE2_G9km)"
   ]
  }
 ],
 "metadata": {
  "kernelspec": {
   "display_name": "Python 3 (ipykernel)",
   "language": "python",
   "name": "python3"
  },
  "language_info": {
   "codemirror_mode": {
    "name": "ipython",
    "version": 3
   },
   "file_extension": ".py",
   "mimetype": "text/x-python",
   "name": "python",
   "nbconvert_exporter": "python",
   "pygments_lexer": "ipython3",
   "version": "3.11.3"
  }
 },
 "nbformat": 4,
 "nbformat_minor": 5
}
